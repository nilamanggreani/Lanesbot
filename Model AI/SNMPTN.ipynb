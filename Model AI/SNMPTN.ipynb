{
  "nbformat": 4,
  "nbformat_minor": 0,
  "metadata": {
    "colab": {
      "provenance": [],
      "collapsed_sections": [
        "uElflgoFKISB",
        "UIh4TDuzE_gn",
        "vjBul6uHh1He",
        "aTgP66-ld1VU",
        "RkBf7B4noe7p",
        "ndyct61WxqyH"
      ]
    },
    "kernelspec": {
      "name": "python3",
      "display_name": "Python 3"
    },
    "language_info": {
      "name": "python"
    }
  },
  "cells": [
    {
      "cell_type": "markdown",
      "source": [
        "**SNMPTN Prediction - Universitas Negeri Semarang - FMIPA**"
      ],
      "metadata": {
        "id": "QFpxsdmIE5WH"
      }
    },
    {
      "cell_type": "markdown",
      "source": [
        "# Import Library"
      ],
      "metadata": {
        "id": "uElflgoFKISB"
      }
    },
    {
      "cell_type": "code",
      "source": [
        "# import library\n",
        "import pandas as pd\n",
        "import numpy as np\n",
        "import seaborn as sns\n",
        "import matplotlib\n",
        "import matplotlib.pyplot as plt\n",
        "\n",
        "# split train set dan test set\n",
        "from sklearn.model_selection import train_test_split\n",
        "\n",
        "# standardization\n",
        "from sklearn.preprocessing import StandardScaler\n",
        "\n",
        "# mencari model dengan setting-an hyperparameter terbaik\n",
        "from sklearn.model_selection import GridSearchCV\n",
        "\n",
        "# model Decision Tree\n",
        "from sklearn.tree import DecisionTreeClassifier\n",
        "\n",
        "# menilai performa model\n",
        "from sklearn.metrics import classification_report\n",
        "\n",
        "# visualisasi untuk model Decision Tree\n",
        "from sklearn import tree\n",
        "\n",
        "# save model untuk deploy\n",
        "import joblib\n",
        "import pickle\n",
        "\n",
        "# library untuk mengabaikan pesan warning\n",
        "import warnings\n",
        "warnings.filterwarnings(\"ignore\")"
      ],
      "metadata": {
        "id": "5ZuqTuQSFJUn"
      },
      "execution_count": null,
      "outputs": []
    },
    {
      "cell_type": "markdown",
      "source": [
        "# 1. Load Dataset"
      ],
      "metadata": {
        "id": "UIh4TDuzE_gn"
      }
    },
    {
      "cell_type": "markdown",
      "source": [
        "Pertama, load dataset SNMPTN yang telah disediakan.\n",
        "Download dataset di [sini](https://drive.google.com/file/d/1mu6t3mwF-MJO_1N3JS4MHVyrAtT19Lsr/view?usp=share_link)."
      ],
      "metadata": {
        "id": "dV4Mw6jFwj4t"
      }
    },
    {
      "cell_type": "code",
      "execution_count": null,
      "metadata": {
        "colab": {
          "base_uri": "https://localhost:8080/"
        },
        "id": "lsFhd1hlCRfH",
        "outputId": "e0427d57-22a4-4fd8-f42a-8ce3cde186bb"
      },
      "outputs": [
        {
          "output_type": "execute_result",
          "data": {
            "text/plain": [
              "  Program_Studi       Status  Bahasa_Indonesia  Bahasa_Inggris  Biologi  \\\n",
              "0        Fisika  Tidak Lolos                88              77       88   \n",
              "1        Fisika  Tidak Lolos                89              75       85   \n",
              "2        Fisika  Tidak Lolos                88              86       88   \n",
              "3        Fisika  Tidak Lolos                85              82       85   \n",
              "4        Fisika  Tidak Lolos                77              81       79   \n",
              "\n",
              "   Fisika  Kimia  Matematika  \n",
              "0      78     78          88  \n",
              "1      89     78          85  \n",
              "2      85     76          79  \n",
              "3      88     79          82  \n",
              "4      89     75          92  "
            ],
            "text/html": [
              "\n",
              "  <div id=\"df-10de8bf9-b5d5-45de-85c5-aa3b616103b5\">\n",
              "    <div class=\"colab-df-container\">\n",
              "      <div>\n",
              "<style scoped>\n",
              "    .dataframe tbody tr th:only-of-type {\n",
              "        vertical-align: middle;\n",
              "    }\n",
              "\n",
              "    .dataframe tbody tr th {\n",
              "        vertical-align: top;\n",
              "    }\n",
              "\n",
              "    .dataframe thead th {\n",
              "        text-align: right;\n",
              "    }\n",
              "</style>\n",
              "<table border=\"1\" class=\"dataframe\">\n",
              "  <thead>\n",
              "    <tr style=\"text-align: right;\">\n",
              "      <th></th>\n",
              "      <th>Program_Studi</th>\n",
              "      <th>Status</th>\n",
              "      <th>Bahasa_Indonesia</th>\n",
              "      <th>Bahasa_Inggris</th>\n",
              "      <th>Biologi</th>\n",
              "      <th>Fisika</th>\n",
              "      <th>Kimia</th>\n",
              "      <th>Matematika</th>\n",
              "    </tr>\n",
              "  </thead>\n",
              "  <tbody>\n",
              "    <tr>\n",
              "      <th>0</th>\n",
              "      <td>Fisika</td>\n",
              "      <td>Tidak Lolos</td>\n",
              "      <td>88</td>\n",
              "      <td>77</td>\n",
              "      <td>88</td>\n",
              "      <td>78</td>\n",
              "      <td>78</td>\n",
              "      <td>88</td>\n",
              "    </tr>\n",
              "    <tr>\n",
              "      <th>1</th>\n",
              "      <td>Fisika</td>\n",
              "      <td>Tidak Lolos</td>\n",
              "      <td>89</td>\n",
              "      <td>75</td>\n",
              "      <td>85</td>\n",
              "      <td>89</td>\n",
              "      <td>78</td>\n",
              "      <td>85</td>\n",
              "    </tr>\n",
              "    <tr>\n",
              "      <th>2</th>\n",
              "      <td>Fisika</td>\n",
              "      <td>Tidak Lolos</td>\n",
              "      <td>88</td>\n",
              "      <td>86</td>\n",
              "      <td>88</td>\n",
              "      <td>85</td>\n",
              "      <td>76</td>\n",
              "      <td>79</td>\n",
              "    </tr>\n",
              "    <tr>\n",
              "      <th>3</th>\n",
              "      <td>Fisika</td>\n",
              "      <td>Tidak Lolos</td>\n",
              "      <td>85</td>\n",
              "      <td>82</td>\n",
              "      <td>85</td>\n",
              "      <td>88</td>\n",
              "      <td>79</td>\n",
              "      <td>82</td>\n",
              "    </tr>\n",
              "    <tr>\n",
              "      <th>4</th>\n",
              "      <td>Fisika</td>\n",
              "      <td>Tidak Lolos</td>\n",
              "      <td>77</td>\n",
              "      <td>81</td>\n",
              "      <td>79</td>\n",
              "      <td>89</td>\n",
              "      <td>75</td>\n",
              "      <td>92</td>\n",
              "    </tr>\n",
              "  </tbody>\n",
              "</table>\n",
              "</div>\n",
              "      <button class=\"colab-df-convert\" onclick=\"convertToInteractive('df-10de8bf9-b5d5-45de-85c5-aa3b616103b5')\"\n",
              "              title=\"Convert this dataframe to an interactive table.\"\n",
              "              style=\"display:none;\">\n",
              "        \n",
              "  <svg xmlns=\"http://www.w3.org/2000/svg\" height=\"24px\"viewBox=\"0 0 24 24\"\n",
              "       width=\"24px\">\n",
              "    <path d=\"M0 0h24v24H0V0z\" fill=\"none\"/>\n",
              "    <path d=\"M18.56 5.44l.94 2.06.94-2.06 2.06-.94-2.06-.94-.94-2.06-.94 2.06-2.06.94zm-11 1L8.5 8.5l.94-2.06 2.06-.94-2.06-.94L8.5 2.5l-.94 2.06-2.06.94zm10 10l.94 2.06.94-2.06 2.06-.94-2.06-.94-.94-2.06-.94 2.06-2.06.94z\"/><path d=\"M17.41 7.96l-1.37-1.37c-.4-.4-.92-.59-1.43-.59-.52 0-1.04.2-1.43.59L10.3 9.45l-7.72 7.72c-.78.78-.78 2.05 0 2.83L4 21.41c.39.39.9.59 1.41.59.51 0 1.02-.2 1.41-.59l7.78-7.78 2.81-2.81c.8-.78.8-2.07 0-2.86zM5.41 20L4 18.59l7.72-7.72 1.47 1.35L5.41 20z\"/>\n",
              "  </svg>\n",
              "      </button>\n",
              "      \n",
              "  <style>\n",
              "    .colab-df-container {\n",
              "      display:flex;\n",
              "      flex-wrap:wrap;\n",
              "      gap: 12px;\n",
              "    }\n",
              "\n",
              "    .colab-df-convert {\n",
              "      background-color: #E8F0FE;\n",
              "      border: none;\n",
              "      border-radius: 50%;\n",
              "      cursor: pointer;\n",
              "      display: none;\n",
              "      fill: #1967D2;\n",
              "      height: 32px;\n",
              "      padding: 0 0 0 0;\n",
              "      width: 32px;\n",
              "    }\n",
              "\n",
              "    .colab-df-convert:hover {\n",
              "      background-color: #E2EBFA;\n",
              "      box-shadow: 0px 1px 2px rgba(60, 64, 67, 0.3), 0px 1px 3px 1px rgba(60, 64, 67, 0.15);\n",
              "      fill: #174EA6;\n",
              "    }\n",
              "\n",
              "    [theme=dark] .colab-df-convert {\n",
              "      background-color: #3B4455;\n",
              "      fill: #D2E3FC;\n",
              "    }\n",
              "\n",
              "    [theme=dark] .colab-df-convert:hover {\n",
              "      background-color: #434B5C;\n",
              "      box-shadow: 0px 1px 3px 1px rgba(0, 0, 0, 0.15);\n",
              "      filter: drop-shadow(0px 1px 2px rgba(0, 0, 0, 0.3));\n",
              "      fill: #FFFFFF;\n",
              "    }\n",
              "  </style>\n",
              "\n",
              "      <script>\n",
              "        const buttonEl =\n",
              "          document.querySelector('#df-10de8bf9-b5d5-45de-85c5-aa3b616103b5 button.colab-df-convert');\n",
              "        buttonEl.style.display =\n",
              "          google.colab.kernel.accessAllowed ? 'block' : 'none';\n",
              "\n",
              "        async function convertToInteractive(key) {\n",
              "          const element = document.querySelector('#df-10de8bf9-b5d5-45de-85c5-aa3b616103b5');\n",
              "          const dataTable =\n",
              "            await google.colab.kernel.invokeFunction('convertToInteractive',\n",
              "                                                     [key], {});\n",
              "          if (!dataTable) return;\n",
              "\n",
              "          const docLinkHtml = 'Like what you see? Visit the ' +\n",
              "            '<a target=\"_blank\" href=https://colab.research.google.com/notebooks/data_table.ipynb>data table notebook</a>'\n",
              "            + ' to learn more about interactive tables.';\n",
              "          element.innerHTML = '';\n",
              "          dataTable['output_type'] = 'display_data';\n",
              "          await google.colab.output.renderOutput(dataTable, element);\n",
              "          const docLink = document.createElement('div');\n",
              "          docLink.innerHTML = docLinkHtml;\n",
              "          element.appendChild(docLink);\n",
              "        }\n",
              "      </script>\n",
              "    </div>\n",
              "  </div>\n",
              "  "
            ]
          },
          "metadata": {},
          "execution_count": 4
        }
      ],
      "source": [
        "df = pd.read_csv('/content/Data SNMPTN Fix.csv')\n",
        "df.head()"
      ]
    },
    {
      "cell_type": "markdown",
      "source": [
        "\n",
        "Analisis tiap kolom yang ada di dalam dataset, kemudian tentukan feature dan label.\n",
        "\n",
        "Karena kita ingin memprediksi kelolosan SNMPTN dengan nilai rata-rata rapot calon mahasiswa, maka kita pilih kolom **Status** sebagai label. Sementara, kolom sisanya menjadi feature.\n",
        "\n",
        "Selanjutnya, pindahkan label (kolom Status) ke posisi ujung sebelah kanan table, untuk memudahkan kita pada proses selanjutnya.\n"
      ],
      "metadata": {
        "id": "JcdE6KIcF3LG"
      }
    },
    {
      "cell_type": "code",
      "source": [
        "temporary = df['Status']\n",
        "df.drop(labels=['Status'], axis=1, inplace = True)\n",
        "df['Status'] = temporary # pindahkan label ke posisi ujung sebelah kanan\n",
        "df.head()"
      ],
      "metadata": {
        "colab": {
          "base_uri": "https://localhost:8080/"
        },
        "id": "jPD6KvMgFeOJ",
        "outputId": "22cdc479-46b1-43e5-a367-ab9e26b26951"
      },
      "execution_count": null,
      "outputs": [
        {
          "output_type": "execute_result",
          "data": {
            "text/plain": [
              "  Program_Studi  Bahasa_Indonesia  Bahasa_Inggris  Biologi  Fisika  Kimia  \\\n",
              "0        Fisika                88              77       88      78     78   \n",
              "1        Fisika                89              75       85      89     78   \n",
              "2        Fisika                88              86       88      85     76   \n",
              "3        Fisika                85              82       85      88     79   \n",
              "4        Fisika                77              81       79      89     75   \n",
              "\n",
              "   Matematika       Status  \n",
              "0          88  Tidak Lolos  \n",
              "1          85  Tidak Lolos  \n",
              "2          79  Tidak Lolos  \n",
              "3          82  Tidak Lolos  \n",
              "4          92  Tidak Lolos  "
            ],
            "text/html": [
              "\n",
              "  <div id=\"df-84c151b7-53de-4a6f-99f1-d2d114b1a90b\">\n",
              "    <div class=\"colab-df-container\">\n",
              "      <div>\n",
              "<style scoped>\n",
              "    .dataframe tbody tr th:only-of-type {\n",
              "        vertical-align: middle;\n",
              "    }\n",
              "\n",
              "    .dataframe tbody tr th {\n",
              "        vertical-align: top;\n",
              "    }\n",
              "\n",
              "    .dataframe thead th {\n",
              "        text-align: right;\n",
              "    }\n",
              "</style>\n",
              "<table border=\"1\" class=\"dataframe\">\n",
              "  <thead>\n",
              "    <tr style=\"text-align: right;\">\n",
              "      <th></th>\n",
              "      <th>Program_Studi</th>\n",
              "      <th>Bahasa_Indonesia</th>\n",
              "      <th>Bahasa_Inggris</th>\n",
              "      <th>Biologi</th>\n",
              "      <th>Fisika</th>\n",
              "      <th>Kimia</th>\n",
              "      <th>Matematika</th>\n",
              "      <th>Status</th>\n",
              "    </tr>\n",
              "  </thead>\n",
              "  <tbody>\n",
              "    <tr>\n",
              "      <th>0</th>\n",
              "      <td>Fisika</td>\n",
              "      <td>88</td>\n",
              "      <td>77</td>\n",
              "      <td>88</td>\n",
              "      <td>78</td>\n",
              "      <td>78</td>\n",
              "      <td>88</td>\n",
              "      <td>Tidak Lolos</td>\n",
              "    </tr>\n",
              "    <tr>\n",
              "      <th>1</th>\n",
              "      <td>Fisika</td>\n",
              "      <td>89</td>\n",
              "      <td>75</td>\n",
              "      <td>85</td>\n",
              "      <td>89</td>\n",
              "      <td>78</td>\n",
              "      <td>85</td>\n",
              "      <td>Tidak Lolos</td>\n",
              "    </tr>\n",
              "    <tr>\n",
              "      <th>2</th>\n",
              "      <td>Fisika</td>\n",
              "      <td>88</td>\n",
              "      <td>86</td>\n",
              "      <td>88</td>\n",
              "      <td>85</td>\n",
              "      <td>76</td>\n",
              "      <td>79</td>\n",
              "      <td>Tidak Lolos</td>\n",
              "    </tr>\n",
              "    <tr>\n",
              "      <th>3</th>\n",
              "      <td>Fisika</td>\n",
              "      <td>85</td>\n",
              "      <td>82</td>\n",
              "      <td>85</td>\n",
              "      <td>88</td>\n",
              "      <td>79</td>\n",
              "      <td>82</td>\n",
              "      <td>Tidak Lolos</td>\n",
              "    </tr>\n",
              "    <tr>\n",
              "      <th>4</th>\n",
              "      <td>Fisika</td>\n",
              "      <td>77</td>\n",
              "      <td>81</td>\n",
              "      <td>79</td>\n",
              "      <td>89</td>\n",
              "      <td>75</td>\n",
              "      <td>92</td>\n",
              "      <td>Tidak Lolos</td>\n",
              "    </tr>\n",
              "  </tbody>\n",
              "</table>\n",
              "</div>\n",
              "      <button class=\"colab-df-convert\" onclick=\"convertToInteractive('df-84c151b7-53de-4a6f-99f1-d2d114b1a90b')\"\n",
              "              title=\"Convert this dataframe to an interactive table.\"\n",
              "              style=\"display:none;\">\n",
              "        \n",
              "  <svg xmlns=\"http://www.w3.org/2000/svg\" height=\"24px\"viewBox=\"0 0 24 24\"\n",
              "       width=\"24px\">\n",
              "    <path d=\"M0 0h24v24H0V0z\" fill=\"none\"/>\n",
              "    <path d=\"M18.56 5.44l.94 2.06.94-2.06 2.06-.94-2.06-.94-.94-2.06-.94 2.06-2.06.94zm-11 1L8.5 8.5l.94-2.06 2.06-.94-2.06-.94L8.5 2.5l-.94 2.06-2.06.94zm10 10l.94 2.06.94-2.06 2.06-.94-2.06-.94-.94-2.06-.94 2.06-2.06.94z\"/><path d=\"M17.41 7.96l-1.37-1.37c-.4-.4-.92-.59-1.43-.59-.52 0-1.04.2-1.43.59L10.3 9.45l-7.72 7.72c-.78.78-.78 2.05 0 2.83L4 21.41c.39.39.9.59 1.41.59.51 0 1.02-.2 1.41-.59l7.78-7.78 2.81-2.81c.8-.78.8-2.07 0-2.86zM5.41 20L4 18.59l7.72-7.72 1.47 1.35L5.41 20z\"/>\n",
              "  </svg>\n",
              "      </button>\n",
              "      \n",
              "  <style>\n",
              "    .colab-df-container {\n",
              "      display:flex;\n",
              "      flex-wrap:wrap;\n",
              "      gap: 12px;\n",
              "    }\n",
              "\n",
              "    .colab-df-convert {\n",
              "      background-color: #E8F0FE;\n",
              "      border: none;\n",
              "      border-radius: 50%;\n",
              "      cursor: pointer;\n",
              "      display: none;\n",
              "      fill: #1967D2;\n",
              "      height: 32px;\n",
              "      padding: 0 0 0 0;\n",
              "      width: 32px;\n",
              "    }\n",
              "\n",
              "    .colab-df-convert:hover {\n",
              "      background-color: #E2EBFA;\n",
              "      box-shadow: 0px 1px 2px rgba(60, 64, 67, 0.3), 0px 1px 3px 1px rgba(60, 64, 67, 0.15);\n",
              "      fill: #174EA6;\n",
              "    }\n",
              "\n",
              "    [theme=dark] .colab-df-convert {\n",
              "      background-color: #3B4455;\n",
              "      fill: #D2E3FC;\n",
              "    }\n",
              "\n",
              "    [theme=dark] .colab-df-convert:hover {\n",
              "      background-color: #434B5C;\n",
              "      box-shadow: 0px 1px 3px 1px rgba(0, 0, 0, 0.15);\n",
              "      filter: drop-shadow(0px 1px 2px rgba(0, 0, 0, 0.3));\n",
              "      fill: #FFFFFF;\n",
              "    }\n",
              "  </style>\n",
              "\n",
              "      <script>\n",
              "        const buttonEl =\n",
              "          document.querySelector('#df-84c151b7-53de-4a6f-99f1-d2d114b1a90b button.colab-df-convert');\n",
              "        buttonEl.style.display =\n",
              "          google.colab.kernel.accessAllowed ? 'block' : 'none';\n",
              "\n",
              "        async function convertToInteractive(key) {\n",
              "          const element = document.querySelector('#df-84c151b7-53de-4a6f-99f1-d2d114b1a90b');\n",
              "          const dataTable =\n",
              "            await google.colab.kernel.invokeFunction('convertToInteractive',\n",
              "                                                     [key], {});\n",
              "          if (!dataTable) return;\n",
              "\n",
              "          const docLinkHtml = 'Like what you see? Visit the ' +\n",
              "            '<a target=\"_blank\" href=https://colab.research.google.com/notebooks/data_table.ipynb>data table notebook</a>'\n",
              "            + ' to learn more about interactive tables.';\n",
              "          element.innerHTML = '';\n",
              "          dataTable['output_type'] = 'display_data';\n",
              "          await google.colab.output.renderOutput(dataTable, element);\n",
              "          const docLink = document.createElement('div');\n",
              "          docLink.innerHTML = docLinkHtml;\n",
              "          element.appendChild(docLink);\n",
              "        }\n",
              "      </script>\n",
              "    </div>\n",
              "  </div>\n",
              "  "
            ]
          },
          "metadata": {},
          "execution_count": 5
        }
      ]
    },
    {
      "cell_type": "code",
      "source": [
        "# ukuran dataset yang kita miliki\n",
        "df.shape"
      ],
      "metadata": {
        "colab": {
          "base_uri": "https://localhost:8080/"
        },
        "id": "Z4ubxUMMH5K9",
        "outputId": "4267340c-2d14-4ae1-f1df-4959b3642eb9"
      },
      "execution_count": null,
      "outputs": [
        {
          "output_type": "execute_result",
          "data": {
            "text/plain": [
              "(130, 8)"
            ]
          },
          "metadata": {},
          "execution_count": 6
        }
      ]
    },
    {
      "cell_type": "markdown",
      "source": [
        "Pastikan tidak ada missing dan duplicate value dalam dataset sebelum kita ke tahap berikutnya.\n",
        "\n"
      ],
      "metadata": {
        "id": "TdX-2kUHHYjt"
      }
    },
    {
      "cell_type": "code",
      "source": [
        "# periksa missing value\n",
        "df.isnull().sum()"
      ],
      "metadata": {
        "colab": {
          "base_uri": "https://localhost:8080/"
        },
        "id": "gNX1pk4iHBhF",
        "outputId": "17a7f4eb-92f4-4def-c4b9-8abcd40aa6db"
      },
      "execution_count": null,
      "outputs": [
        {
          "output_type": "execute_result",
          "data": {
            "text/plain": [
              "Program_Studi       0\n",
              "Bahasa_Indonesia    0\n",
              "Bahasa_Inggris      0\n",
              "Biologi             0\n",
              "Fisika              0\n",
              "Kimia               0\n",
              "Matematika          0\n",
              "Status              0\n",
              "dtype: int64"
            ]
          },
          "metadata": {},
          "execution_count": 7
        }
      ]
    },
    {
      "cell_type": "code",
      "source": [
        "# periksa duplicate value\n",
        "df.duplicated().sum()"
      ],
      "metadata": {
        "colab": {
          "base_uri": "https://localhost:8080/"
        },
        "id": "m0G4SoX_IR_d",
        "outputId": "2ad8ca26-58ce-46aa-ef97-e0879d7445b7"
      },
      "execution_count": null,
      "outputs": [
        {
          "output_type": "execute_result",
          "data": {
            "text/plain": [
              "0"
            ]
          },
          "metadata": {},
          "execution_count": 8
        }
      ]
    },
    {
      "cell_type": "code",
      "source": [
        "# hapus data duplikat\n",
        "df.drop_duplicates(inplace=True)\n",
        "df.duplicated().sum()"
      ],
      "metadata": {
        "colab": {
          "base_uri": "https://localhost:8080/"
        },
        "id": "ZMkHOjmWIEO7",
        "outputId": "786f4ac1-94ec-4dec-af6b-7f60df6f8a86"
      },
      "execution_count": null,
      "outputs": [
        {
          "output_type": "execute_result",
          "data": {
            "text/plain": [
              "0"
            ]
          },
          "metadata": {},
          "execution_count": 9
        }
      ]
    },
    {
      "cell_type": "code",
      "source": [
        "df.shape"
      ],
      "metadata": {
        "colab": {
          "base_uri": "https://localhost:8080/"
        },
        "id": "W0l1f98CJW8r",
        "outputId": "f12fed87-e5ff-444c-96e0-e6fb9c7ad9d1"
      },
      "execution_count": null,
      "outputs": [
        {
          "output_type": "execute_result",
          "data": {
            "text/plain": [
              "(130, 8)"
            ]
          },
          "metadata": {},
          "execution_count": 10
        }
      ]
    },
    {
      "cell_type": "markdown",
      "source": [
        "Jika ditemukan missing dan duplicate value, maka kita harus melakukan *data preprocessing* terlebih dahulu.\n",
        "\n",
        "Kabar baiknya, dataset kita tidak memiliki missing ataupun duplicate value sehingga kita bisa ke tahap berikutnya."
      ],
      "metadata": {
        "id": "mhc_NBvLIole"
      }
    },
    {
      "cell_type": "markdown",
      "source": [
        "# 2. Data Preparation"
      ],
      "metadata": {
        "id": "vjBul6uHh1He"
      }
    },
    {
      "cell_type": "markdown",
      "source": [
        "Dalam dataset kita, masih terdapat kolom yang memiliki nilai kategorik, yakni kolom: \n",
        "- Program_Studi\n",
        "- Bahasa_Indonesia\n",
        "- Bahasa_Inggris\n",
        "- Biologi\n",
        "- Fisika\n",
        "- Kimia\n",
        "- Matematika, dan\n",
        "- Status\n",
        "\n",
        "Sayangnya, library Machine Learning hanya bisa memproses data numerik. Supaya dataset kita bisa diproses library Machine Learning, kita perlu mengubah kolom bernilai kategorik menjadi numerik.\n",
        "\n",
        "\n",
        "Salah satu metode yang bisa kita gunakan untuk mengubah nilai suatu kolom adalah Label Encoding."
      ],
      "metadata": {
        "id": "RR8unWVoLWOD"
      }
    },
    {
      "cell_type": "code",
      "source": [
        "df.head()"
      ],
      "metadata": {
        "colab": {
          "base_uri": "https://localhost:8080/"
        },
        "id": "swRAcr6oJhMC",
        "outputId": "5e9f85d1-6bc1-44fd-eb32-b43554bce635"
      },
      "execution_count": null,
      "outputs": [
        {
          "output_type": "execute_result",
          "data": {
            "text/plain": [
              "  Program_Studi  Bahasa_Indonesia  Bahasa_Inggris  Biologi  Fisika  Kimia  \\\n",
              "0        Fisika                88              77       88      78     78   \n",
              "1        Fisika                89              75       85      89     78   \n",
              "2        Fisika                88              86       88      85     76   \n",
              "3        Fisika                85              82       85      88     79   \n",
              "4        Fisika                77              81       79      89     75   \n",
              "\n",
              "   Matematika       Status  \n",
              "0          88  Tidak Lolos  \n",
              "1          85  Tidak Lolos  \n",
              "2          79  Tidak Lolos  \n",
              "3          82  Tidak Lolos  \n",
              "4          92  Tidak Lolos  "
            ],
            "text/html": [
              "\n",
              "  <div id=\"df-c00b9039-ccbe-482b-a527-5a0d43c0fa9f\">\n",
              "    <div class=\"colab-df-container\">\n",
              "      <div>\n",
              "<style scoped>\n",
              "    .dataframe tbody tr th:only-of-type {\n",
              "        vertical-align: middle;\n",
              "    }\n",
              "\n",
              "    .dataframe tbody tr th {\n",
              "        vertical-align: top;\n",
              "    }\n",
              "\n",
              "    .dataframe thead th {\n",
              "        text-align: right;\n",
              "    }\n",
              "</style>\n",
              "<table border=\"1\" class=\"dataframe\">\n",
              "  <thead>\n",
              "    <tr style=\"text-align: right;\">\n",
              "      <th></th>\n",
              "      <th>Program_Studi</th>\n",
              "      <th>Bahasa_Indonesia</th>\n",
              "      <th>Bahasa_Inggris</th>\n",
              "      <th>Biologi</th>\n",
              "      <th>Fisika</th>\n",
              "      <th>Kimia</th>\n",
              "      <th>Matematika</th>\n",
              "      <th>Status</th>\n",
              "    </tr>\n",
              "  </thead>\n",
              "  <tbody>\n",
              "    <tr>\n",
              "      <th>0</th>\n",
              "      <td>Fisika</td>\n",
              "      <td>88</td>\n",
              "      <td>77</td>\n",
              "      <td>88</td>\n",
              "      <td>78</td>\n",
              "      <td>78</td>\n",
              "      <td>88</td>\n",
              "      <td>Tidak Lolos</td>\n",
              "    </tr>\n",
              "    <tr>\n",
              "      <th>1</th>\n",
              "      <td>Fisika</td>\n",
              "      <td>89</td>\n",
              "      <td>75</td>\n",
              "      <td>85</td>\n",
              "      <td>89</td>\n",
              "      <td>78</td>\n",
              "      <td>85</td>\n",
              "      <td>Tidak Lolos</td>\n",
              "    </tr>\n",
              "    <tr>\n",
              "      <th>2</th>\n",
              "      <td>Fisika</td>\n",
              "      <td>88</td>\n",
              "      <td>86</td>\n",
              "      <td>88</td>\n",
              "      <td>85</td>\n",
              "      <td>76</td>\n",
              "      <td>79</td>\n",
              "      <td>Tidak Lolos</td>\n",
              "    </tr>\n",
              "    <tr>\n",
              "      <th>3</th>\n",
              "      <td>Fisika</td>\n",
              "      <td>85</td>\n",
              "      <td>82</td>\n",
              "      <td>85</td>\n",
              "      <td>88</td>\n",
              "      <td>79</td>\n",
              "      <td>82</td>\n",
              "      <td>Tidak Lolos</td>\n",
              "    </tr>\n",
              "    <tr>\n",
              "      <th>4</th>\n",
              "      <td>Fisika</td>\n",
              "      <td>77</td>\n",
              "      <td>81</td>\n",
              "      <td>79</td>\n",
              "      <td>89</td>\n",
              "      <td>75</td>\n",
              "      <td>92</td>\n",
              "      <td>Tidak Lolos</td>\n",
              "    </tr>\n",
              "  </tbody>\n",
              "</table>\n",
              "</div>\n",
              "      <button class=\"colab-df-convert\" onclick=\"convertToInteractive('df-c00b9039-ccbe-482b-a527-5a0d43c0fa9f')\"\n",
              "              title=\"Convert this dataframe to an interactive table.\"\n",
              "              style=\"display:none;\">\n",
              "        \n",
              "  <svg xmlns=\"http://www.w3.org/2000/svg\" height=\"24px\"viewBox=\"0 0 24 24\"\n",
              "       width=\"24px\">\n",
              "    <path d=\"M0 0h24v24H0V0z\" fill=\"none\"/>\n",
              "    <path d=\"M18.56 5.44l.94 2.06.94-2.06 2.06-.94-2.06-.94-.94-2.06-.94 2.06-2.06.94zm-11 1L8.5 8.5l.94-2.06 2.06-.94-2.06-.94L8.5 2.5l-.94 2.06-2.06.94zm10 10l.94 2.06.94-2.06 2.06-.94-2.06-.94-.94-2.06-.94 2.06-2.06.94z\"/><path d=\"M17.41 7.96l-1.37-1.37c-.4-.4-.92-.59-1.43-.59-.52 0-1.04.2-1.43.59L10.3 9.45l-7.72 7.72c-.78.78-.78 2.05 0 2.83L4 21.41c.39.39.9.59 1.41.59.51 0 1.02-.2 1.41-.59l7.78-7.78 2.81-2.81c.8-.78.8-2.07 0-2.86zM5.41 20L4 18.59l7.72-7.72 1.47 1.35L5.41 20z\"/>\n",
              "  </svg>\n",
              "      </button>\n",
              "      \n",
              "  <style>\n",
              "    .colab-df-container {\n",
              "      display:flex;\n",
              "      flex-wrap:wrap;\n",
              "      gap: 12px;\n",
              "    }\n",
              "\n",
              "    .colab-df-convert {\n",
              "      background-color: #E8F0FE;\n",
              "      border: none;\n",
              "      border-radius: 50%;\n",
              "      cursor: pointer;\n",
              "      display: none;\n",
              "      fill: #1967D2;\n",
              "      height: 32px;\n",
              "      padding: 0 0 0 0;\n",
              "      width: 32px;\n",
              "    }\n",
              "\n",
              "    .colab-df-convert:hover {\n",
              "      background-color: #E2EBFA;\n",
              "      box-shadow: 0px 1px 2px rgba(60, 64, 67, 0.3), 0px 1px 3px 1px rgba(60, 64, 67, 0.15);\n",
              "      fill: #174EA6;\n",
              "    }\n",
              "\n",
              "    [theme=dark] .colab-df-convert {\n",
              "      background-color: #3B4455;\n",
              "      fill: #D2E3FC;\n",
              "    }\n",
              "\n",
              "    [theme=dark] .colab-df-convert:hover {\n",
              "      background-color: #434B5C;\n",
              "      box-shadow: 0px 1px 3px 1px rgba(0, 0, 0, 0.15);\n",
              "      filter: drop-shadow(0px 1px 2px rgba(0, 0, 0, 0.3));\n",
              "      fill: #FFFFFF;\n",
              "    }\n",
              "  </style>\n",
              "\n",
              "      <script>\n",
              "        const buttonEl =\n",
              "          document.querySelector('#df-c00b9039-ccbe-482b-a527-5a0d43c0fa9f button.colab-df-convert');\n",
              "        buttonEl.style.display =\n",
              "          google.colab.kernel.accessAllowed ? 'block' : 'none';\n",
              "\n",
              "        async function convertToInteractive(key) {\n",
              "          const element = document.querySelector('#df-c00b9039-ccbe-482b-a527-5a0d43c0fa9f');\n",
              "          const dataTable =\n",
              "            await google.colab.kernel.invokeFunction('convertToInteractive',\n",
              "                                                     [key], {});\n",
              "          if (!dataTable) return;\n",
              "\n",
              "          const docLinkHtml = 'Like what you see? Visit the ' +\n",
              "            '<a target=\"_blank\" href=https://colab.research.google.com/notebooks/data_table.ipynb>data table notebook</a>'\n",
              "            + ' to learn more about interactive tables.';\n",
              "          element.innerHTML = '';\n",
              "          dataTable['output_type'] = 'display_data';\n",
              "          await google.colab.output.renderOutput(dataTable, element);\n",
              "          const docLink = document.createElement('div');\n",
              "          docLink.innerHTML = docLinkHtml;\n",
              "          element.appendChild(docLink);\n",
              "        }\n",
              "      </script>\n",
              "    </div>\n",
              "  </div>\n",
              "  "
            ]
          },
          "metadata": {},
          "execution_count": 11
        }
      ]
    },
    {
      "cell_type": "code",
      "source": [
        "# # label encoding kolom kecelakaan_kerja\n",
        "# df['sekolah'] = df['sekolah'].map({'SMA':0, 'SMK':1})\n",
        "\n",
        "# # label encoding kolom promosi\n",
        "# df['prodi'] = df['prodi'].map({'Sistem Informasi':0, 'Teknik Komputer':1})\n",
        "\n",
        "# label encoding kolom divisi\n",
        "df['Program_Studi'] = df['Program_Studi'].map({'Fisika':0,\n",
        "                               'Pendidikan Fisika':1,\n",
        "                               'Pendidikan Biologi':2,\n",
        "                               'Biologi':3,\n",
        "                               'Farmasi':4,\n",
        "                               'Sistem Informasi':5,\n",
        "                               'Kimia':6,\n",
        "                               'Pendidikan Kimia':7,\n",
        "                               'Pendidikan Matematika':8,\n",
        "                               'Matematika':9,\n",
        "                               'Pendidikan IPA':10,\n",
        "                               'Ilmu Lingkungan':11,\n",
        "                               'Teknik Informatika':12})\n",
        "\n",
        "# # label encoding kolom gaji\n",
        "# df['gaji'] = df['gaji'].map({'low':0, 'medium':1, 'high':2})\n",
        "\n",
        "# label encoding kolom resign\n",
        "df['Status'] = df['Status'].map({'Lolos':0, 'Tidak Lolos':1})"
      ],
      "metadata": {
        "id": "Oq0GdQaEMSpz"
      },
      "execution_count": null,
      "outputs": []
    },
    {
      "cell_type": "code",
      "source": [
        "df.head(15)"
      ],
      "metadata": {
        "colab": {
          "base_uri": "https://localhost:8080/"
        },
        "id": "b7TMREnTObny",
        "outputId": "d5209b55-f902-410b-d06b-76418bff6b1b"
      },
      "execution_count": null,
      "outputs": [
        {
          "output_type": "execute_result",
          "data": {
            "text/plain": [
              "    Program_Studi  Bahasa_Indonesia  Bahasa_Inggris  Biologi  Fisika  Kimia  \\\n",
              "0               0                88              77       88      78     78   \n",
              "1               0                89              75       85      89     78   \n",
              "2               0                88              86       88      85     76   \n",
              "3               0                85              82       85      88     79   \n",
              "4               0                77              81       79      89     75   \n",
              "5               0                75              80       88      85     90   \n",
              "6               0                90              90       86      87     85   \n",
              "7               0                87              88       89      85     88   \n",
              "8               0                90              90       88      87     88   \n",
              "9               0                87              89       88      85     88   \n",
              "10              1                89              88       89      90     93   \n",
              "11              1                88              86       89      87     87   \n",
              "12              1                79              80       82      88     89   \n",
              "13              1                88              86       80      88     87   \n",
              "14              1                84              88       89      90     91   \n",
              "\n",
              "    Matematika  Status  \n",
              "0           88       1  \n",
              "1           85       1  \n",
              "2           79       1  \n",
              "3           82       1  \n",
              "4           92       1  \n",
              "5           88       0  \n",
              "6           86       0  \n",
              "7           85       0  \n",
              "8           89       0  \n",
              "9           90       0  \n",
              "10          90       0  \n",
              "11          92       0  \n",
              "12          90       0  \n",
              "13          80       0  \n",
              "14          78       0  "
            ],
            "text/html": [
              "\n",
              "  <div id=\"df-60c0946d-6384-42e5-b858-767c493a4dc4\">\n",
              "    <div class=\"colab-df-container\">\n",
              "      <div>\n",
              "<style scoped>\n",
              "    .dataframe tbody tr th:only-of-type {\n",
              "        vertical-align: middle;\n",
              "    }\n",
              "\n",
              "    .dataframe tbody tr th {\n",
              "        vertical-align: top;\n",
              "    }\n",
              "\n",
              "    .dataframe thead th {\n",
              "        text-align: right;\n",
              "    }\n",
              "</style>\n",
              "<table border=\"1\" class=\"dataframe\">\n",
              "  <thead>\n",
              "    <tr style=\"text-align: right;\">\n",
              "      <th></th>\n",
              "      <th>Program_Studi</th>\n",
              "      <th>Bahasa_Indonesia</th>\n",
              "      <th>Bahasa_Inggris</th>\n",
              "      <th>Biologi</th>\n",
              "      <th>Fisika</th>\n",
              "      <th>Kimia</th>\n",
              "      <th>Matematika</th>\n",
              "      <th>Status</th>\n",
              "    </tr>\n",
              "  </thead>\n",
              "  <tbody>\n",
              "    <tr>\n",
              "      <th>0</th>\n",
              "      <td>0</td>\n",
              "      <td>88</td>\n",
              "      <td>77</td>\n",
              "      <td>88</td>\n",
              "      <td>78</td>\n",
              "      <td>78</td>\n",
              "      <td>88</td>\n",
              "      <td>1</td>\n",
              "    </tr>\n",
              "    <tr>\n",
              "      <th>1</th>\n",
              "      <td>0</td>\n",
              "      <td>89</td>\n",
              "      <td>75</td>\n",
              "      <td>85</td>\n",
              "      <td>89</td>\n",
              "      <td>78</td>\n",
              "      <td>85</td>\n",
              "      <td>1</td>\n",
              "    </tr>\n",
              "    <tr>\n",
              "      <th>2</th>\n",
              "      <td>0</td>\n",
              "      <td>88</td>\n",
              "      <td>86</td>\n",
              "      <td>88</td>\n",
              "      <td>85</td>\n",
              "      <td>76</td>\n",
              "      <td>79</td>\n",
              "      <td>1</td>\n",
              "    </tr>\n",
              "    <tr>\n",
              "      <th>3</th>\n",
              "      <td>0</td>\n",
              "      <td>85</td>\n",
              "      <td>82</td>\n",
              "      <td>85</td>\n",
              "      <td>88</td>\n",
              "      <td>79</td>\n",
              "      <td>82</td>\n",
              "      <td>1</td>\n",
              "    </tr>\n",
              "    <tr>\n",
              "      <th>4</th>\n",
              "      <td>0</td>\n",
              "      <td>77</td>\n",
              "      <td>81</td>\n",
              "      <td>79</td>\n",
              "      <td>89</td>\n",
              "      <td>75</td>\n",
              "      <td>92</td>\n",
              "      <td>1</td>\n",
              "    </tr>\n",
              "    <tr>\n",
              "      <th>5</th>\n",
              "      <td>0</td>\n",
              "      <td>75</td>\n",
              "      <td>80</td>\n",
              "      <td>88</td>\n",
              "      <td>85</td>\n",
              "      <td>90</td>\n",
              "      <td>88</td>\n",
              "      <td>0</td>\n",
              "    </tr>\n",
              "    <tr>\n",
              "      <th>6</th>\n",
              "      <td>0</td>\n",
              "      <td>90</td>\n",
              "      <td>90</td>\n",
              "      <td>86</td>\n",
              "      <td>87</td>\n",
              "      <td>85</td>\n",
              "      <td>86</td>\n",
              "      <td>0</td>\n",
              "    </tr>\n",
              "    <tr>\n",
              "      <th>7</th>\n",
              "      <td>0</td>\n",
              "      <td>87</td>\n",
              "      <td>88</td>\n",
              "      <td>89</td>\n",
              "      <td>85</td>\n",
              "      <td>88</td>\n",
              "      <td>85</td>\n",
              "      <td>0</td>\n",
              "    </tr>\n",
              "    <tr>\n",
              "      <th>8</th>\n",
              "      <td>0</td>\n",
              "      <td>90</td>\n",
              "      <td>90</td>\n",
              "      <td>88</td>\n",
              "      <td>87</td>\n",
              "      <td>88</td>\n",
              "      <td>89</td>\n",
              "      <td>0</td>\n",
              "    </tr>\n",
              "    <tr>\n",
              "      <th>9</th>\n",
              "      <td>0</td>\n",
              "      <td>87</td>\n",
              "      <td>89</td>\n",
              "      <td>88</td>\n",
              "      <td>85</td>\n",
              "      <td>88</td>\n",
              "      <td>90</td>\n",
              "      <td>0</td>\n",
              "    </tr>\n",
              "    <tr>\n",
              "      <th>10</th>\n",
              "      <td>1</td>\n",
              "      <td>89</td>\n",
              "      <td>88</td>\n",
              "      <td>89</td>\n",
              "      <td>90</td>\n",
              "      <td>93</td>\n",
              "      <td>90</td>\n",
              "      <td>0</td>\n",
              "    </tr>\n",
              "    <tr>\n",
              "      <th>11</th>\n",
              "      <td>1</td>\n",
              "      <td>88</td>\n",
              "      <td>86</td>\n",
              "      <td>89</td>\n",
              "      <td>87</td>\n",
              "      <td>87</td>\n",
              "      <td>92</td>\n",
              "      <td>0</td>\n",
              "    </tr>\n",
              "    <tr>\n",
              "      <th>12</th>\n",
              "      <td>1</td>\n",
              "      <td>79</td>\n",
              "      <td>80</td>\n",
              "      <td>82</td>\n",
              "      <td>88</td>\n",
              "      <td>89</td>\n",
              "      <td>90</td>\n",
              "      <td>0</td>\n",
              "    </tr>\n",
              "    <tr>\n",
              "      <th>13</th>\n",
              "      <td>1</td>\n",
              "      <td>88</td>\n",
              "      <td>86</td>\n",
              "      <td>80</td>\n",
              "      <td>88</td>\n",
              "      <td>87</td>\n",
              "      <td>80</td>\n",
              "      <td>0</td>\n",
              "    </tr>\n",
              "    <tr>\n",
              "      <th>14</th>\n",
              "      <td>1</td>\n",
              "      <td>84</td>\n",
              "      <td>88</td>\n",
              "      <td>89</td>\n",
              "      <td>90</td>\n",
              "      <td>91</td>\n",
              "      <td>78</td>\n",
              "      <td>0</td>\n",
              "    </tr>\n",
              "  </tbody>\n",
              "</table>\n",
              "</div>\n",
              "      <button class=\"colab-df-convert\" onclick=\"convertToInteractive('df-60c0946d-6384-42e5-b858-767c493a4dc4')\"\n",
              "              title=\"Convert this dataframe to an interactive table.\"\n",
              "              style=\"display:none;\">\n",
              "        \n",
              "  <svg xmlns=\"http://www.w3.org/2000/svg\" height=\"24px\"viewBox=\"0 0 24 24\"\n",
              "       width=\"24px\">\n",
              "    <path d=\"M0 0h24v24H0V0z\" fill=\"none\"/>\n",
              "    <path d=\"M18.56 5.44l.94 2.06.94-2.06 2.06-.94-2.06-.94-.94-2.06-.94 2.06-2.06.94zm-11 1L8.5 8.5l.94-2.06 2.06-.94-2.06-.94L8.5 2.5l-.94 2.06-2.06.94zm10 10l.94 2.06.94-2.06 2.06-.94-2.06-.94-.94-2.06-.94 2.06-2.06.94z\"/><path d=\"M17.41 7.96l-1.37-1.37c-.4-.4-.92-.59-1.43-.59-.52 0-1.04.2-1.43.59L10.3 9.45l-7.72 7.72c-.78.78-.78 2.05 0 2.83L4 21.41c.39.39.9.59 1.41.59.51 0 1.02-.2 1.41-.59l7.78-7.78 2.81-2.81c.8-.78.8-2.07 0-2.86zM5.41 20L4 18.59l7.72-7.72 1.47 1.35L5.41 20z\"/>\n",
              "  </svg>\n",
              "      </button>\n",
              "      \n",
              "  <style>\n",
              "    .colab-df-container {\n",
              "      display:flex;\n",
              "      flex-wrap:wrap;\n",
              "      gap: 12px;\n",
              "    }\n",
              "\n",
              "    .colab-df-convert {\n",
              "      background-color: #E8F0FE;\n",
              "      border: none;\n",
              "      border-radius: 50%;\n",
              "      cursor: pointer;\n",
              "      display: none;\n",
              "      fill: #1967D2;\n",
              "      height: 32px;\n",
              "      padding: 0 0 0 0;\n",
              "      width: 32px;\n",
              "    }\n",
              "\n",
              "    .colab-df-convert:hover {\n",
              "      background-color: #E2EBFA;\n",
              "      box-shadow: 0px 1px 2px rgba(60, 64, 67, 0.3), 0px 1px 3px 1px rgba(60, 64, 67, 0.15);\n",
              "      fill: #174EA6;\n",
              "    }\n",
              "\n",
              "    [theme=dark] .colab-df-convert {\n",
              "      background-color: #3B4455;\n",
              "      fill: #D2E3FC;\n",
              "    }\n",
              "\n",
              "    [theme=dark] .colab-df-convert:hover {\n",
              "      background-color: #434B5C;\n",
              "      box-shadow: 0px 1px 3px 1px rgba(0, 0, 0, 0.15);\n",
              "      filter: drop-shadow(0px 1px 2px rgba(0, 0, 0, 0.3));\n",
              "      fill: #FFFFFF;\n",
              "    }\n",
              "  </style>\n",
              "\n",
              "      <script>\n",
              "        const buttonEl =\n",
              "          document.querySelector('#df-60c0946d-6384-42e5-b858-767c493a4dc4 button.colab-df-convert');\n",
              "        buttonEl.style.display =\n",
              "          google.colab.kernel.accessAllowed ? 'block' : 'none';\n",
              "\n",
              "        async function convertToInteractive(key) {\n",
              "          const element = document.querySelector('#df-60c0946d-6384-42e5-b858-767c493a4dc4');\n",
              "          const dataTable =\n",
              "            await google.colab.kernel.invokeFunction('convertToInteractive',\n",
              "                                                     [key], {});\n",
              "          if (!dataTable) return;\n",
              "\n",
              "          const docLinkHtml = 'Like what you see? Visit the ' +\n",
              "            '<a target=\"_blank\" href=https://colab.research.google.com/notebooks/data_table.ipynb>data table notebook</a>'\n",
              "            + ' to learn more about interactive tables.';\n",
              "          element.innerHTML = '';\n",
              "          dataTable['output_type'] = 'display_data';\n",
              "          await google.colab.output.renderOutput(dataTable, element);\n",
              "          const docLink = document.createElement('div');\n",
              "          docLink.innerHTML = docLinkHtml;\n",
              "          element.appendChild(docLink);\n",
              "        }\n",
              "      </script>\n",
              "    </div>\n",
              "  </div>\n",
              "  "
            ]
          },
          "metadata": {},
          "execution_count": 13
        }
      ]
    },
    {
      "cell_type": "markdown",
      "source": [
        "Dataset kita memiliki 130 baris (observasi) dan 8 buah feature dan. Feature yang terlalu banyak dan observasi yang terlalu sedikit dapat menyebabkan performa model menurun.\n",
        "\n",
        "Solusi masalah ini adalah dengan mereduksi feature dalam dataset, atau biasa disebut dengan *Dimensionality Reduction*.\n",
        "\n",
        "Salah satu metode *dimensionality reductio*n adalah dengan memilih feature yang paling berkorelasi dengan label menggunakan heatmap. Kita akan memilih 5 feature berdasarkan label resign."
      ],
      "metadata": {
        "id": "gI8LwK0WH6_9"
      }
    },
    {
      "cell_type": "code",
      "source": [
        "plt.figure(figsize=(12,12))\n",
        "sns.heatmap(df.corr(), annot=True)\n",
        "plt.show()"
      ],
      "metadata": {
        "colab": {
          "base_uri": "https://localhost:8080/"
        },
        "id": "nUWpTtu7KtT5",
        "outputId": "c2e62180-cd27-4cb0-a909-d2238ddf54c2"
      },
      "execution_count": null,
      "outputs": [
        {
          "output_type": "display_data",
          "data": {
            "text/plain": [
              "<Figure size 864x864 with 2 Axes>"
            ],
            "image/png": "[encoded data removed]"
          },
          "metadata": {
            "needs_background": "light"
          }
        }
      ]
    },
    {
      "cell_type": "markdown",
      "source": [
        "Tujuh feature dengan nilai korelasi terbesar, **baik positif atau negatif**, terhadap label Status adalah:\n",
        "\n",
        "1. Program_Studi (2e-16)\n",
        "2. Bahasa_Indonesia (-0.48)\n",
        "3. Bahasa_Inggris (-0.41)\n",
        "4. Biologi (-0.5)\n",
        "5. Fisika (-0.6)\n",
        "6. Kimia (-0.67)\n",
        "7. Matematika (-0.49)\n",
        "\n",
        "Selanjutnya, kita hanya menggunakan 7 feature ini pada tahap modeling.\n"
      ],
      "metadata": {
        "id": "Kjdrqoyqac5u"
      }
    },
    {
      "cell_type": "markdown",
      "source": [
        "Pisahkan feature dan label. Simpan nilai feature ke dalam variable **X** dan nilai label ke dalam variable **y**."
      ],
      "metadata": {
        "id": "MYicl6GAbfRt"
      }
    },
    {
      "cell_type": "code",
      "source": [
        "df.head()"
      ],
      "metadata": {
        "colab": {
          "base_uri": "https://localhost:8080/"
        },
        "id": "I4OHOHXsKraa",
        "outputId": "a0eaf450-a31e-47ae-c74d-a02b554e4a98"
      },
      "execution_count": null,
      "outputs": [
        {
          "output_type": "execute_result",
          "data": {
            "text/plain": [
              "   Program_Studi  Bahasa_Indonesia  Bahasa_Inggris  Biologi  Fisika  Kimia  \\\n",
              "0              0                88              77       88      78     78   \n",
              "1              0                89              75       85      89     78   \n",
              "2              0                88              86       88      85     76   \n",
              "3              0                85              82       85      88     79   \n",
              "4              0                77              81       79      89     75   \n",
              "\n",
              "   Matematika  Status  \n",
              "0          88       1  \n",
              "1          85       1  \n",
              "2          79       1  \n",
              "3          82       1  \n",
              "4          92       1  "
            ],
            "text/html": [
              "\n",
              "  <div id=\"df-e127951b-6802-4d29-9b71-315870520784\">\n",
              "    <div class=\"colab-df-container\">\n",
              "      <div>\n",
              "<style scoped>\n",
              "    .dataframe tbody tr th:only-of-type {\n",
              "        vertical-align: middle;\n",
              "    }\n",
              "\n",
              "    .dataframe tbody tr th {\n",
              "        vertical-align: top;\n",
              "    }\n",
              "\n",
              "    .dataframe thead th {\n",
              "        text-align: right;\n",
              "    }\n",
              "</style>\n",
              "<table border=\"1\" class=\"dataframe\">\n",
              "  <thead>\n",
              "    <tr style=\"text-align: right;\">\n",
              "      <th></th>\n",
              "      <th>Program_Studi</th>\n",
              "      <th>Bahasa_Indonesia</th>\n",
              "      <th>Bahasa_Inggris</th>\n",
              "      <th>Biologi</th>\n",
              "      <th>Fisika</th>\n",
              "      <th>Kimia</th>\n",
              "      <th>Matematika</th>\n",
              "      <th>Status</th>\n",
              "    </tr>\n",
              "  </thead>\n",
              "  <tbody>\n",
              "    <tr>\n",
              "      <th>0</th>\n",
              "      <td>0</td>\n",
              "      <td>88</td>\n",
              "      <td>77</td>\n",
              "      <td>88</td>\n",
              "      <td>78</td>\n",
              "      <td>78</td>\n",
              "      <td>88</td>\n",
              "      <td>1</td>\n",
              "    </tr>\n",
              "    <tr>\n",
              "      <th>1</th>\n",
              "      <td>0</td>\n",
              "      <td>89</td>\n",
              "      <td>75</td>\n",
              "      <td>85</td>\n",
              "      <td>89</td>\n",
              "      <td>78</td>\n",
              "      <td>85</td>\n",
              "      <td>1</td>\n",
              "    </tr>\n",
              "    <tr>\n",
              "      <th>2</th>\n",
              "      <td>0</td>\n",
              "      <td>88</td>\n",
              "      <td>86</td>\n",
              "      <td>88</td>\n",
              "      <td>85</td>\n",
              "      <td>76</td>\n",
              "      <td>79</td>\n",
              "      <td>1</td>\n",
              "    </tr>\n",
              "    <tr>\n",
              "      <th>3</th>\n",
              "      <td>0</td>\n",
              "      <td>85</td>\n",
              "      <td>82</td>\n",
              "      <td>85</td>\n",
              "      <td>88</td>\n",
              "      <td>79</td>\n",
              "      <td>82</td>\n",
              "      <td>1</td>\n",
              "    </tr>\n",
              "    <tr>\n",
              "      <th>4</th>\n",
              "      <td>0</td>\n",
              "      <td>77</td>\n",
              "      <td>81</td>\n",
              "      <td>79</td>\n",
              "      <td>89</td>\n",
              "      <td>75</td>\n",
              "      <td>92</td>\n",
              "      <td>1</td>\n",
              "    </tr>\n",
              "  </tbody>\n",
              "</table>\n",
              "</div>\n",
              "      <button class=\"colab-df-convert\" onclick=\"convertToInteractive('df-e127951b-6802-4d29-9b71-315870520784')\"\n",
              "              title=\"Convert this dataframe to an interactive table.\"\n",
              "              style=\"display:none;\">\n",
              "        \n",
              "  <svg xmlns=\"http://www.w3.org/2000/svg\" height=\"24px\"viewBox=\"0 0 24 24\"\n",
              "       width=\"24px\">\n",
              "    <path d=\"M0 0h24v24H0V0z\" fill=\"none\"/>\n",
              "    <path d=\"M18.56 5.44l.94 2.06.94-2.06 2.06-.94-2.06-.94-.94-2.06-.94 2.06-2.06.94zm-11 1L8.5 8.5l.94-2.06 2.06-.94-2.06-.94L8.5 2.5l-.94 2.06-2.06.94zm10 10l.94 2.06.94-2.06 2.06-.94-2.06-.94-.94-2.06-.94 2.06-2.06.94z\"/><path d=\"M17.41 7.96l-1.37-1.37c-.4-.4-.92-.59-1.43-.59-.52 0-1.04.2-1.43.59L10.3 9.45l-7.72 7.72c-.78.78-.78 2.05 0 2.83L4 21.41c.39.39.9.59 1.41.59.51 0 1.02-.2 1.41-.59l7.78-7.78 2.81-2.81c.8-.78.8-2.07 0-2.86zM5.41 20L4 18.59l7.72-7.72 1.47 1.35L5.41 20z\"/>\n",
              "  </svg>\n",
              "      </button>\n",
              "      \n",
              "  <style>\n",
              "    .colab-df-container {\n",
              "      display:flex;\n",
              "      flex-wrap:wrap;\n",
              "      gap: 12px;\n",
              "    }\n",
              "\n",
              "    .colab-df-convert {\n",
              "      background-color: #E8F0FE;\n",
              "      border: none;\n",
              "      border-radius: 50%;\n",
              "      cursor: pointer;\n",
              "      display: none;\n",
              "      fill: #1967D2;\n",
              "      height: 32px;\n",
              "      padding: 0 0 0 0;\n",
              "      width: 32px;\n",
              "    }\n",
              "\n",
              "    .colab-df-convert:hover {\n",
              "      background-color: #E2EBFA;\n",
              "      box-shadow: 0px 1px 2px rgba(60, 64, 67, 0.3), 0px 1px 3px 1px rgba(60, 64, 67, 0.15);\n",
              "      fill: #174EA6;\n",
              "    }\n",
              "\n",
              "    [theme=dark] .colab-df-convert {\n",
              "      background-color: #3B4455;\n",
              "      fill: #D2E3FC;\n",
              "    }\n",
              "\n",
              "    [theme=dark] .colab-df-convert:hover {\n",
              "      background-color: #434B5C;\n",
              "      box-shadow: 0px 1px 3px 1px rgba(0, 0, 0, 0.15);\n",
              "      filter: drop-shadow(0px 1px 2px rgba(0, 0, 0, 0.3));\n",
              "      fill: #FFFFFF;\n",
              "    }\n",
              "  </style>\n",
              "\n",
              "      <script>\n",
              "        const buttonEl =\n",
              "          document.querySelector('#df-e127951b-6802-4d29-9b71-315870520784 button.colab-df-convert');\n",
              "        buttonEl.style.display =\n",
              "          google.colab.kernel.accessAllowed ? 'block' : 'none';\n",
              "\n",
              "        async function convertToInteractive(key) {\n",
              "          const element = document.querySelector('#df-e127951b-6802-4d29-9b71-315870520784');\n",
              "          const dataTable =\n",
              "            await google.colab.kernel.invokeFunction('convertToInteractive',\n",
              "                                                     [key], {});\n",
              "          if (!dataTable) return;\n",
              "\n",
              "          const docLinkHtml = 'Like what you see? Visit the ' +\n",
              "            '<a target=\"_blank\" href=https://colab.research.google.com/notebooks/data_table.ipynb>data table notebook</a>'\n",
              "            + ' to learn more about interactive tables.';\n",
              "          element.innerHTML = '';\n",
              "          dataTable['output_type'] = 'display_data';\n",
              "          await google.colab.output.renderOutput(dataTable, element);\n",
              "          const docLink = document.createElement('div');\n",
              "          docLink.innerHTML = docLinkHtml;\n",
              "          element.appendChild(docLink);\n",
              "        }\n",
              "      </script>\n",
              "    </div>\n",
              "  </div>\n",
              "  "
            ]
          },
          "metadata": {},
          "execution_count": 15
        }
      ]
    },
    {
      "cell_type": "code",
      "source": [
        "nama_feature = ['Program_Studi', 'Bahasa_Indonesia',\t'Bahasa_Inggris',\t'Biologi', 'Fisika',\t'Kimia',\t'Matematika']\n",
        "\n",
        "X = df[nama_feature].values\n",
        "y = df['Status'].values"
      ],
      "metadata": {
        "id": "f0WihqYLICOE"
      },
      "execution_count": null,
      "outputs": []
    },
    {
      "cell_type": "markdown",
      "source": [
        "Pisahkan dataset menjadi training set (80%) dan test set (20%) menggunakan **[traintestsplit](https://scikit-learn.org/stable/modules/generated/sklearn.model_selection.train_test_split.html)**."
      ],
      "metadata": {
        "id": "eciKPJ7bcT0l"
      }
    },
    {
      "cell_type": "code",
      "source": [
        "X_train, X_test, y_train, y_test = train_test_split(X, y, test_size=0.2, random_state=42, stratify=y)"
      ],
      "metadata": {
        "id": "5QZBcUXCckdN"
      },
      "execution_count": null,
      "outputs": []
    },
    {
      "cell_type": "markdown",
      "source": [
        "# 3. Modeling"
      ],
      "metadata": {
        "id": "aTgP66-ld1VU"
      }
    },
    {
      "cell_type": "code",
      "source": [
        "# jumlah observasi pada tiap label\n",
        "df.Status.value_counts()"
      ],
      "metadata": {
        "colab": {
          "base_uri": "https://localhost:8080/"
        },
        "id": "K8CSLoZkd9tb",
        "outputId": "66d325c3-213d-44eb-d148-2c443a7594a2"
      },
      "execution_count": null,
      "outputs": [
        {
          "output_type": "execute_result",
          "data": {
            "text/plain": [
              "1    65\n",
              "0    65\n",
              "Name: Status, dtype: int64"
            ]
          },
          "metadata": {},
          "execution_count": 18
        }
      ]
    },
    {
      "cell_type": "code",
      "source": [
        "df.head()"
      ],
      "metadata": {
        "colab": {
          "base_uri": "https://localhost:8080/"
        },
        "id": "RQyKILi4jdMs",
        "outputId": "b62a2928-23be-4c56-acee-186015a7f12d"
      },
      "execution_count": null,
      "outputs": [
        {
          "output_type": "execute_result",
          "data": {
            "text/plain": [
              "   Program_Studi  Bahasa_Indonesia  Bahasa_Inggris  Biologi  Fisika  Kimia  \\\n",
              "0              0                88              77       88      78     78   \n",
              "1              0                89              75       85      89     78   \n",
              "2              0                88              86       88      85     76   \n",
              "3              0                85              82       85      88     79   \n",
              "4              0                77              81       79      89     75   \n",
              "\n",
              "   Matematika  Status  \n",
              "0          88       1  \n",
              "1          85       1  \n",
              "2          79       1  \n",
              "3          82       1  \n",
              "4          92       1  "
            ],
            "text/html": [
              "\n",
              "  <div id=\"df-0320f4b9-d9b6-45b4-ac33-ce353041e7be\">\n",
              "    <div class=\"colab-df-container\">\n",
              "      <div>\n",
              "<style scoped>\n",
              "    .dataframe tbody tr th:only-of-type {\n",
              "        vertical-align: middle;\n",
              "    }\n",
              "\n",
              "    .dataframe tbody tr th {\n",
              "        vertical-align: top;\n",
              "    }\n",
              "\n",
              "    .dataframe thead th {\n",
              "        text-align: right;\n",
              "    }\n",
              "</style>\n",
              "<table border=\"1\" class=\"dataframe\">\n",
              "  <thead>\n",
              "    <tr style=\"text-align: right;\">\n",
              "      <th></th>\n",
              "      <th>Program_Studi</th>\n",
              "      <th>Bahasa_Indonesia</th>\n",
              "      <th>Bahasa_Inggris</th>\n",
              "      <th>Biologi</th>\n",
              "      <th>Fisika</th>\n",
              "      <th>Kimia</th>\n",
              "      <th>Matematika</th>\n",
              "      <th>Status</th>\n",
              "    </tr>\n",
              "  </thead>\n",
              "  <tbody>\n",
              "    <tr>\n",
              "      <th>0</th>\n",
              "      <td>0</td>\n",
              "      <td>88</td>\n",
              "      <td>77</td>\n",
              "      <td>88</td>\n",
              "      <td>78</td>\n",
              "      <td>78</td>\n",
              "      <td>88</td>\n",
              "      <td>1</td>\n",
              "    </tr>\n",
              "    <tr>\n",
              "      <th>1</th>\n",
              "      <td>0</td>\n",
              "      <td>89</td>\n",
              "      <td>75</td>\n",
              "      <td>85</td>\n",
              "      <td>89</td>\n",
              "      <td>78</td>\n",
              "      <td>85</td>\n",
              "      <td>1</td>\n",
              "    </tr>\n",
              "    <tr>\n",
              "      <th>2</th>\n",
              "      <td>0</td>\n",
              "      <td>88</td>\n",
              "      <td>86</td>\n",
              "      <td>88</td>\n",
              "      <td>85</td>\n",
              "      <td>76</td>\n",
              "      <td>79</td>\n",
              "      <td>1</td>\n",
              "    </tr>\n",
              "    <tr>\n",
              "      <th>3</th>\n",
              "      <td>0</td>\n",
              "      <td>85</td>\n",
              "      <td>82</td>\n",
              "      <td>85</td>\n",
              "      <td>88</td>\n",
              "      <td>79</td>\n",
              "      <td>82</td>\n",
              "      <td>1</td>\n",
              "    </tr>\n",
              "    <tr>\n",
              "      <th>4</th>\n",
              "      <td>0</td>\n",
              "      <td>77</td>\n",
              "      <td>81</td>\n",
              "      <td>79</td>\n",
              "      <td>89</td>\n",
              "      <td>75</td>\n",
              "      <td>92</td>\n",
              "      <td>1</td>\n",
              "    </tr>\n",
              "  </tbody>\n",
              "</table>\n",
              "</div>\n",
              "      <button class=\"colab-df-convert\" onclick=\"convertToInteractive('df-0320f4b9-d9b6-45b4-ac33-ce353041e7be')\"\n",
              "              title=\"Convert this dataframe to an interactive table.\"\n",
              "              style=\"display:none;\">\n",
              "        \n",
              "  <svg xmlns=\"http://www.w3.org/2000/svg\" height=\"24px\"viewBox=\"0 0 24 24\"\n",
              "       width=\"24px\">\n",
              "    <path d=\"M0 0h24v24H0V0z\" fill=\"none\"/>\n",
              "    <path d=\"M18.56 5.44l.94 2.06.94-2.06 2.06-.94-2.06-.94-.94-2.06-.94 2.06-2.06.94zm-11 1L8.5 8.5l.94-2.06 2.06-.94-2.06-.94L8.5 2.5l-.94 2.06-2.06.94zm10 10l.94 2.06.94-2.06 2.06-.94-2.06-.94-.94-2.06-.94 2.06-2.06.94z\"/><path d=\"M17.41 7.96l-1.37-1.37c-.4-.4-.92-.59-1.43-.59-.52 0-1.04.2-1.43.59L10.3 9.45l-7.72 7.72c-.78.78-.78 2.05 0 2.83L4 21.41c.39.39.9.59 1.41.59.51 0 1.02-.2 1.41-.59l7.78-7.78 2.81-2.81c.8-.78.8-2.07 0-2.86zM5.41 20L4 18.59l7.72-7.72 1.47 1.35L5.41 20z\"/>\n",
              "  </svg>\n",
              "      </button>\n",
              "      \n",
              "  <style>\n",
              "    .colab-df-container {\n",
              "      display:flex;\n",
              "      flex-wrap:wrap;\n",
              "      gap: 12px;\n",
              "    }\n",
              "\n",
              "    .colab-df-convert {\n",
              "      background-color: #E8F0FE;\n",
              "      border: none;\n",
              "      border-radius: 50%;\n",
              "      cursor: pointer;\n",
              "      display: none;\n",
              "      fill: #1967D2;\n",
              "      height: 32px;\n",
              "      padding: 0 0 0 0;\n",
              "      width: 32px;\n",
              "    }\n",
              "\n",
              "    .colab-df-convert:hover {\n",
              "      background-color: #E2EBFA;\n",
              "      box-shadow: 0px 1px 2px rgba(60, 64, 67, 0.3), 0px 1px 3px 1px rgba(60, 64, 67, 0.15);\n",
              "      fill: #174EA6;\n",
              "    }\n",
              "\n",
              "    [theme=dark] .colab-df-convert {\n",
              "      background-color: #3B4455;\n",
              "      fill: #D2E3FC;\n",
              "    }\n",
              "\n",
              "    [theme=dark] .colab-df-convert:hover {\n",
              "      background-color: #434B5C;\n",
              "      box-shadow: 0px 1px 3px 1px rgba(0, 0, 0, 0.15);\n",
              "      filter: drop-shadow(0px 1px 2px rgba(0, 0, 0, 0.3));\n",
              "      fill: #FFFFFF;\n",
              "    }\n",
              "  </style>\n",
              "\n",
              "      <script>\n",
              "        const buttonEl =\n",
              "          document.querySelector('#df-0320f4b9-d9b6-45b4-ac33-ce353041e7be button.colab-df-convert');\n",
              "        buttonEl.style.display =\n",
              "          google.colab.kernel.accessAllowed ? 'block' : 'none';\n",
              "\n",
              "        async function convertToInteractive(key) {\n",
              "          const element = document.querySelector('#df-0320f4b9-d9b6-45b4-ac33-ce353041e7be');\n",
              "          const dataTable =\n",
              "            await google.colab.kernel.invokeFunction('convertToInteractive',\n",
              "                                                     [key], {});\n",
              "          if (!dataTable) return;\n",
              "\n",
              "          const docLinkHtml = 'Like what you see? Visit the ' +\n",
              "            '<a target=\"_blank\" href=https://colab.research.google.com/notebooks/data_table.ipynb>data table notebook</a>'\n",
              "            + ' to learn more about interactive tables.';\n",
              "          element.innerHTML = '';\n",
              "          dataTable['output_type'] = 'display_data';\n",
              "          await google.colab.output.renderOutput(dataTable, element);\n",
              "          const docLink = document.createElement('div');\n",
              "          docLink.innerHTML = docLinkHtml;\n",
              "          element.appendChild(docLink);\n",
              "        }\n",
              "      </script>\n",
              "    </div>\n",
              "  </div>\n",
              "  "
            ]
          },
          "metadata": {},
          "execution_count": 19
        }
      ]
    },
    {
      "cell_type": "code",
      "source": [
        "scaler = StandardScaler()\n",
        "scaler.fit(X_train)\n",
        "X_train_scaled = scaler.transform(X_train)\n",
        "\n",
        "# hasil scale 5 baris teratas\n",
        "print(X_train_scaled[:5, :])"
      ],
      "metadata": {
        "colab": {
          "base_uri": "https://localhost:8080/"
        },
        "id": "0va3fdUpz59p",
        "outputId": "2d1cdfdd-f628-4fe8-b5c5-45efc022e527"
      },
      "execution_count": null,
      "outputs": [
        {
          "output_type": "stream",
          "name": "stdout",
          "text": [
            "[[ 1.02608159 -1.86094544 -2.26839242 -1.77349215 -1.24300175 -0.87538421\n",
            "  -1.42971399]\n",
            " [-1.08703693  0.13887653  0.73833949 -0.01897911 -0.10903524  0.61707412\n",
            "  -0.78135532]\n",
            " [-1.35117675 -1.41654056  0.04447828 -1.99280628  0.79813797 -1.30180088\n",
            "   0.29924246]\n",
            " [-0.82289712  0.58328141  0.27576535 -1.99280628 -1.46979505  0.61707412\n",
            "   0.94760113]\n",
            " [-0.29461749  0.58328141  0.50705242  0.41964915 -0.56262185 -0.23575921\n",
            "  -0.56523576]]\n"
          ]
        }
      ]
    },
    {
      "cell_type": "code",
      "source": [
        "# model Decision Tree\n",
        "test_model = DecisionTreeClassifier(random_state=42)\n",
        "\n",
        "# hyperparameter\n",
        "params = {'max_depth': list(range(2, 10)),\n",
        "          'max_leaf_nodes': list(range(2, 10))}\n",
        "\n",
        "search_best_model = GridSearchCV(test_model, params, cv=20)\n",
        "\n",
        "# training model\n",
        "search_best_model.fit(X_train_scaled, y_train)"
      ],
      "metadata": {
        "colab": {
          "base_uri": "https://localhost:8080/"
        },
        "id": "ndshwNqZk5Xb",
        "outputId": "eeb46423-ec96-4283-b33b-854062ba858b"
      },
      "execution_count": null,
      "outputs": [
        {
          "output_type": "execute_result",
          "data": {
            "text/plain": [
              "GridSearchCV(cv=20, estimator=DecisionTreeClassifier(random_state=42),\n",
              "             param_grid={'max_depth': [2, 3, 4, 5, 6, 7, 8, 9],\n",
              "                         'max_leaf_nodes': [2, 3, 4, 5, 6, 7, 8, 9]})"
            ]
          },
          "metadata": {},
          "execution_count": 21
        }
      ]
    },
    {
      "cell_type": "code",
      "source": [
        "# model dengan hyperparameter terbaik\n",
        "search_best_model.best_estimator_"
      ],
      "metadata": {
        "colab": {
          "base_uri": "https://localhost:8080/"
        },
        "id": "V17y1f9omWlM",
        "outputId": "c64260f9-071b-4910-b5f1-711e0df8b7ac"
      },
      "execution_count": null,
      "outputs": [
        {
          "output_type": "execute_result",
          "data": {
            "text/plain": [
              "DecisionTreeClassifier(max_depth=4, max_leaf_nodes=6, random_state=42)"
            ]
          },
          "metadata": {},
          "execution_count": 22
        }
      ]
    },
    {
      "cell_type": "markdown",
      "source": [
        "# 4. Evaluation"
      ],
      "metadata": {
        "id": "RkBf7B4noe7p"
      }
    },
    {
      "cell_type": "markdown",
      "source": [
        "Setelah mendapat model Decision Tree terbaik, langkah berikutnya adalah melakukan re-modeling dan mengevaluasi performa model menggunakan [classification_report](https://scikit-learn.org/stable/modules/generated/sklearn.metrics.classification_report.html)."
      ],
      "metadata": {
        "id": "rO8II7wOfv6-"
      }
    },
    {
      "cell_type": "code",
      "source": [
        "# melakukan re-modeling (menyimpan model terbaik dalam variable model)\n",
        "model = DecisionTreeClassifier(max_depth=5, max_leaf_nodes=9, random_state=42)\n",
        "model.fit(X_train_scaled, y_train)"
      ],
      "metadata": {
        "colab": {
          "base_uri": "https://localhost:8080/"
        },
        "id": "W8HVDua3nOlb",
        "outputId": "da543332-8ae7-494c-b169-0ace3b51315e"
      },
      "execution_count": null,
      "outputs": [
        {
          "output_type": "execute_result",
          "data": {
            "text/plain": [
              "DecisionTreeClassifier(max_depth=5, max_leaf_nodes=9, random_state=42)"
            ]
          },
          "metadata": {},
          "execution_count": 23
        }
      ]
    },
    {
      "cell_type": "code",
      "source": [
        "# mengevaluasi model\n",
        "X_test_scaled = scaler.transform(X_test)\n",
        "y_pred = model.predict(X_test_scaled)\n",
        "print(classification_report(y_test, y_pred))"
      ],
      "metadata": {
        "colab": {
          "base_uri": "https://localhost:8080/"
        },
        "id": "glS-6LcRpX-y",
        "outputId": "a1234da5-7237-4917-aac5-aa9b7a7aebc9"
      },
      "execution_count": null,
      "outputs": [
        {
          "output_type": "stream",
          "name": "stdout",
          "text": [
            "              precision    recall  f1-score   support\n",
            "\n",
            "           0       0.85      0.85      0.85        13\n",
            "           1       0.85      0.85      0.85        13\n",
            "\n",
            "    accuracy                           0.85        26\n",
            "   macro avg       0.85      0.85      0.85        26\n",
            "weighted avg       0.85      0.85      0.85        26\n",
            "\n"
          ]
        }
      ]
    },
    {
      "cell_type": "markdown",
      "source": [
        "Hasil evaluasi model menunjukkan bahwa model kita memiliki:\n",
        "- precision 85%\n",
        "- recall 85%\n",
        "- accuracy 85%\n",
        "\n",
        "Berdasarkan hasil evaluasi, model kita telah siap untuk dideploy karena sudah memiliki performa yang baik."
      ],
      "metadata": {
        "id": "V-xJxawIguBl"
      }
    },
    {
      "cell_type": "code",
      "source": [
        "plt.figure(figsize=(15,10))\n",
        "tree.plot_tree(model,\n",
        "               feature_names = nama_feature,\n",
        "               class_names = ['Lolos', 'Tidak Lolos'],\n",
        "               filled = True)\n",
        "plt.show()"
      ],
      "metadata": {
        "colab": {
          "base_uri": "https://localhost:8080/",
          "height": 575
        },
        "id": "cA2Wjkkgq2rS",
        "outputId": "ede3cede-a188-4aaf-e5ab-f014736fffd8"
      },
      "execution_count": null,
      "outputs": [
        {
          "output_type": "display_data",
          "data": {
            "text/plain": [
              "<Figure size 1080x720 with 1 Axes>"
            ],
            "image/png": "[encoded data removed]"
          },
          "metadata": {
            "needs_background": "light"
          }
        }
      ]
    },
    {
      "cell_type": "code",
      "source": [
        "df.head()"
      ],
      "metadata": {
        "colab": {
          "base_uri": "https://localhost:8080/",
          "height": 206
        },
        "id": "lXT1SpryLbmR",
        "outputId": "fb769a4d-872f-41cb-8e7f-0aea6a4807c2"
      },
      "execution_count": null,
      "outputs": [
        {
          "output_type": "execute_result",
          "data": {
            "text/plain": [
              "   Program_Studi  Bahasa_Indonesia  Bahasa_Inggris  Biologi  Fisika  Kimia  \\\n",
              "0              0                88              77       88      78     78   \n",
              "1              0                89              75       85      89     78   \n",
              "2              0                88              86       88      85     76   \n",
              "3              0                85              82       85      88     79   \n",
              "4              0                77              81       79      89     75   \n",
              "\n",
              "   Matematika  Status  \n",
              "0          88       1  \n",
              "1          85       1  \n",
              "2          79       1  \n",
              "3          82       1  \n",
              "4          92       1  "
            ],
            "text/html": [
              "\n",
              "  <div id=\"df-f0d9d6c8-bca3-4281-ab66-ffcca23490e5\">\n",
              "    <div class=\"colab-df-container\">\n",
              "      <div>\n",
              "<style scoped>\n",
              "    .dataframe tbody tr th:only-of-type {\n",
              "        vertical-align: middle;\n",
              "    }\n",
              "\n",
              "    .dataframe tbody tr th {\n",
              "        vertical-align: top;\n",
              "    }\n",
              "\n",
              "    .dataframe thead th {\n",
              "        text-align: right;\n",
              "    }\n",
              "</style>\n",
              "<table border=\"1\" class=\"dataframe\">\n",
              "  <thead>\n",
              "    <tr style=\"text-align: right;\">\n",
              "      <th></th>\n",
              "      <th>Program_Studi</th>\n",
              "      <th>Bahasa_Indonesia</th>\n",
              "      <th>Bahasa_Inggris</th>\n",
              "      <th>Biologi</th>\n",
              "      <th>Fisika</th>\n",
              "      <th>Kimia</th>\n",
              "      <th>Matematika</th>\n",
              "      <th>Status</th>\n",
              "    </tr>\n",
              "  </thead>\n",
              "  <tbody>\n",
              "    <tr>\n",
              "      <th>0</th>\n",
              "      <td>0</td>\n",
              "      <td>88</td>\n",
              "      <td>77</td>\n",
              "      <td>88</td>\n",
              "      <td>78</td>\n",
              "      <td>78</td>\n",
              "      <td>88</td>\n",
              "      <td>1</td>\n",
              "    </tr>\n",
              "    <tr>\n",
              "      <th>1</th>\n",
              "      <td>0</td>\n",
              "      <td>89</td>\n",
              "      <td>75</td>\n",
              "      <td>85</td>\n",
              "      <td>89</td>\n",
              "      <td>78</td>\n",
              "      <td>85</td>\n",
              "      <td>1</td>\n",
              "    </tr>\n",
              "    <tr>\n",
              "      <th>2</th>\n",
              "      <td>0</td>\n",
              "      <td>88</td>\n",
              "      <td>86</td>\n",
              "      <td>88</td>\n",
              "      <td>85</td>\n",
              "      <td>76</td>\n",
              "      <td>79</td>\n",
              "      <td>1</td>\n",
              "    </tr>\n",
              "    <tr>\n",
              "      <th>3</th>\n",
              "      <td>0</td>\n",
              "      <td>85</td>\n",
              "      <td>82</td>\n",
              "      <td>85</td>\n",
              "      <td>88</td>\n",
              "      <td>79</td>\n",
              "      <td>82</td>\n",
              "      <td>1</td>\n",
              "    </tr>\n",
              "    <tr>\n",
              "      <th>4</th>\n",
              "      <td>0</td>\n",
              "      <td>77</td>\n",
              "      <td>81</td>\n",
              "      <td>79</td>\n",
              "      <td>89</td>\n",
              "      <td>75</td>\n",
              "      <td>92</td>\n",
              "      <td>1</td>\n",
              "    </tr>\n",
              "  </tbody>\n",
              "</table>\n",
              "</div>\n",
              "      <button class=\"colab-df-convert\" onclick=\"convertToInteractive('df-f0d9d6c8-bca3-4281-ab66-ffcca23490e5')\"\n",
              "              title=\"Convert this dataframe to an interactive table.\"\n",
              "              style=\"display:none;\">\n",
              "        \n",
              "  <svg xmlns=\"http://www.w3.org/2000/svg\" height=\"24px\"viewBox=\"0 0 24 24\"\n",
              "       width=\"24px\">\n",
              "    <path d=\"M0 0h24v24H0V0z\" fill=\"none\"/>\n",
              "    <path d=\"M18.56 5.44l.94 2.06.94-2.06 2.06-.94-2.06-.94-.94-2.06-.94 2.06-2.06.94zm-11 1L8.5 8.5l.94-2.06 2.06-.94-2.06-.94L8.5 2.5l-.94 2.06-2.06.94zm10 10l.94 2.06.94-2.06 2.06-.94-2.06-.94-.94-2.06-.94 2.06-2.06.94z\"/><path d=\"M17.41 7.96l-1.37-1.37c-.4-.4-.92-.59-1.43-.59-.52 0-1.04.2-1.43.59L10.3 9.45l-7.72 7.72c-.78.78-.78 2.05 0 2.83L4 21.41c.39.39.9.59 1.41.59.51 0 1.02-.2 1.41-.59l7.78-7.78 2.81-2.81c.8-.78.8-2.07 0-2.86zM5.41 20L4 18.59l7.72-7.72 1.47 1.35L5.41 20z\"/>\n",
              "  </svg>\n",
              "      </button>\n",
              "      \n",
              "  <style>\n",
              "    .colab-df-container {\n",
              "      display:flex;\n",
              "      flex-wrap:wrap;\n",
              "      gap: 12px;\n",
              "    }\n",
              "\n",
              "    .colab-df-convert {\n",
              "      background-color: #E8F0FE;\n",
              "      border: none;\n",
              "      border-radius: 50%;\n",
              "      cursor: pointer;\n",
              "      display: none;\n",
              "      fill: #1967D2;\n",
              "      height: 32px;\n",
              "      padding: 0 0 0 0;\n",
              "      width: 32px;\n",
              "    }\n",
              "\n",
              "    .colab-df-convert:hover {\n",
              "      background-color: #E2EBFA;\n",
              "      box-shadow: 0px 1px 2px rgba(60, 64, 67, 0.3), 0px 1px 3px 1px rgba(60, 64, 67, 0.15);\n",
              "      fill: #174EA6;\n",
              "    }\n",
              "\n",
              "    [theme=dark] .colab-df-convert {\n",
              "      background-color: #3B4455;\n",
              "      fill: #D2E3FC;\n",
              "    }\n",
              "\n",
              "    [theme=dark] .colab-df-convert:hover {\n",
              "      background-color: #434B5C;\n",
              "      box-shadow: 0px 1px 3px 1px rgba(0, 0, 0, 0.15);\n",
              "      filter: drop-shadow(0px 1px 2px rgba(0, 0, 0, 0.3));\n",
              "      fill: #FFFFFF;\n",
              "    }\n",
              "  </style>\n",
              "\n",
              "      <script>\n",
              "        const buttonEl =\n",
              "          document.querySelector('#df-f0d9d6c8-bca3-4281-ab66-ffcca23490e5 button.colab-df-convert');\n",
              "        buttonEl.style.display =\n",
              "          google.colab.kernel.accessAllowed ? 'block' : 'none';\n",
              "\n",
              "        async function convertToInteractive(key) {\n",
              "          const element = document.querySelector('#df-f0d9d6c8-bca3-4281-ab66-ffcca23490e5');\n",
              "          const dataTable =\n",
              "            await google.colab.kernel.invokeFunction('convertToInteractive',\n",
              "                                                     [key], {});\n",
              "          if (!dataTable) return;\n",
              "\n",
              "          const docLinkHtml = 'Like what you see? Visit the ' +\n",
              "            '<a target=\"_blank\" href=https://colab.research.google.com/notebooks/data_table.ipynb>data table notebook</a>'\n",
              "            + ' to learn more about interactive tables.';\n",
              "          element.innerHTML = '';\n",
              "          dataTable['output_type'] = 'display_data';\n",
              "          await google.colab.output.renderOutput(dataTable, element);\n",
              "          const docLink = document.createElement('div');\n",
              "          docLink.innerHTML = docLinkHtml;\n",
              "          element.appendChild(docLink);\n",
              "        }\n",
              "      </script>\n",
              "    </div>\n",
              "  </div>\n",
              "  "
            ]
          },
          "metadata": {},
          "execution_count": 26
        }
      ]
    },
    {
      "cell_type": "markdown",
      "source": [
        "Lakukan prediksi data baru menggunakan model tersebut."
      ],
      "metadata": {
        "id": "UACqDyE2AzqS"
      }
    },
    {
      "cell_type": "code",
      "source": [
        "Program_Studi = 3 #@param [0, 1, 2, 3, 4, 5, 6, 7, 8, 9, 10, 11, 12]{type:\"raw\"}\n",
        "Bahasa_Indonesia = 90#@param {type:\"number\"}\n",
        "Bahasa_Inggris = 89#@param {type:\"number\"}\n",
        "Biologi = 88#@param {type:\"number\"}\n",
        "Fisika = 92#@param {type:\"number\"}\n",
        "Kimia = 87#@param {type:\"number\"}\n",
        "Matematika = 90#@param {type:\"number\"}\n",
        "\n",
        "# data baru yang diinput harus di-standardization terlebih dahulu\n",
        "data_baru = [[Program_Studi, Bahasa_Indonesia,\tBahasa_Inggris, Biologi, Fisika, Kimia, Matematika]]\n",
        "data_baru = scaler.transform(data_baru)\n",
        "\n",
        "# prediksi data baru, yang sudah di-standardization, menggunakan model Decision Tree terbaik\n",
        "hasil_prediksi = model.predict(data_baru)\n",
        "hasil_prediksi = int(hasil_prediksi)\n",
        "\n",
        "# hasil prediksi\n",
        "print(f'Nilai tersebut diprediksi ', end='')\n",
        "if hasil_prediksi == 0:\n",
        "  print('lolos!')\n",
        "elif hasil_prediksi == 1:\n",
        "  print('tidak lolos!')"
      ],
      "metadata": {
        "colab": {
          "base_uri": "https://localhost:8080/"
        },
        "id": "JoC_EVHEA61Q",
        "outputId": "c2669bcd-e38c-4945-ea6a-2e438065dd08"
      },
      "execution_count": null,
      "outputs": [
        {
          "output_type": "stream",
          "name": "stdout",
          "text": [
            "Nilai tersebut diprediksi lolos!\n"
          ]
        }
      ]
    },
    {
      "cell_type": "markdown",
      "source": [
        "# Save Model"
      ],
      "metadata": {
        "id": "ndyct61WxqyH"
      }
    },
    {
      "cell_type": "markdown",
      "source": [
        "Langkah terakhir adalah men-save model dan scaler object (standardization function) dalam file pickle.\n",
        "\n",
        "Kita membutuhkan file-file pickle ini pada tahap deployment."
      ],
      "metadata": {
        "id": "RUvYvBFIiEDP"
      }
    },
    {
      "cell_type": "code",
      "source": [
        "pickle.dump(scaler, open('scaler_ds.pkl', 'wb'))\n",
        "pickle.dump(model, open('model_ds.pkl', 'wb'))"
      ],
      "metadata": {
        "id": "UjWhHFjj93kw"
      },
      "execution_count": null,
      "outputs": []
    }
  ]
}